{
 "cells": [
  {
   "cell_type": "markdown",
   "metadata": {},
   "source": [
    "# Project 2: Ames Housing Data\n",
    "\n",
    "## Kaggle Submission\n",
    "\n",
    "### Importing and Cleaning the Validation Dataset"
   ]
  },
  {
   "cell_type": "code",
   "execution_count": 1,
   "metadata": {},
   "outputs": [],
   "source": [
    "import pandas as pd\n",
    "import numpy as np\n",
    "import csv\n",
    "from sklearn.linear_model import LassoCV\n",
    "from sklearn.preprocessing import StandardScaler\n",
    "import pickle\n",
    "\n",
    "%matplotlib inline"
   ]
  },
  {
   "cell_type": "markdown",
   "metadata": {},
   "source": [
    "To get started, I'll bring in the model and scaler created in the previous phase of the project."
   ]
  },
  {
   "cell_type": "code",
   "execution_count": 2,
   "metadata": {},
   "outputs": [],
   "source": [
    "with open('../assets/lasso_lin_reg.pkl', 'rb') as f:\n",
    "    lasso = pickle.load(f)\n",
    "with open('../assets/scaler.pkl', 'rb') as f:\n",
    "    ss = pickle.load(f)\n",
    "kaggle = pd.read_csv('../datasets/test.csv', index_col='Id')"
   ]
  },
  {
   "cell_type": "markdown",
   "metadata": {},
   "source": [
    "Next I'll apply to the validation set all the transformations that I applied to the training dataset in the cleaning and EDA notebooks. Note that `Lot Frontage` will be filled with the value 69.059406, which was the mean value used to fill that feature's null values in the training set."
   ]
  },
  {
   "cell_type": "code",
   "execution_count": 3,
   "metadata": {},
   "outputs": [],
   "source": [
    "kaggle.drop(columns='PID', inplace=True)\n",
    "kaggle['Pool QC'].fillna('NA', inplace=True)\n",
    "kaggle['Misc Feature'].fillna('NA', inplace=True)\n",
    "\n",
    "fence_quality = ['MnPrv', 'GdPrv', 'GdWo', 'MnWw']\n",
    "for quality in fence_quality:\n",
    "    kaggle.Fence = kaggle.Fence.str.replace(quality, '1')\n",
    "kaggle.Fence.fillna(0, inplace=True)\n",
    "kaggle.Fence = kaggle.Fence.apply(lambda x: int(x))\n",
    "\n",
    "alley_quality = ['Grvl', 'Pave']\n",
    "for quality in alley_quality:\n",
    "    kaggle.Alley = kaggle.Alley.str.replace(quality, '1')\n",
    "kaggle.Alley.fillna(0, inplace=True)\n",
    "kaggle.Alley = kaggle.Alley.apply(lambda x: int(x))\n",
    "\n",
    "kaggle.drop(columns='Fireplace Qu', inplace=True)\n",
    "kaggle.drop(columns = 'Garage Yr Blt', inplace=True)\n",
    "\n",
    "kaggle['Garage Type'].fillna('NA', inplace=True)\n",
    "kaggle['Garage Finish'].fillna('NA', inplace=True)\n",
    "kaggle['Garage Qual'].fillna('NA', inplace=True)\n",
    "kaggle['Garage Cond'].fillna('NA', inplace=True)\n",
    "\n",
    "def fill_basement_nulls(data):\n",
    "    for row in data.index:\n",
    "        if data.loc[row, 'Total Bsmt SF'] == 0:\n",
    "            data.loc[row, 'Bsmt Qual'] = 'NA'\n",
    "            data.loc[row, 'Bsmt Cond'] = 'NA'\n",
    "            data.loc[row, 'Bsmt Exposure'] = 'NA'\n",
    "            data.loc[row, 'BsmtFin Type 1'] = 'NA'\n",
    "            data.loc[row, 'BsmtFin Type 2'] = 'NA'\n",
    "    return\n",
    "fill_basement_nulls(kaggle)\n",
    "\n",
    "kaggle['Mas Vnr Area'].fillna(0, inplace=True)\n",
    "kaggle['Mas Vnr Type'].fillna('None', inplace=True)\n",
    "kaggle['Lot Frontage'].fillna(value=69.059406, inplace=True)\n",
    "\n",
    "# BELOW THIS LINE IS TAKEN FROM EDA NOTEBOOK\n",
    "\n",
    "def scale_10_rewrite(column):\n",
    "    for row in kaggle.index:\n",
    "        if kaggle.loc[row, column] >= 9:\n",
    "            kaggle.loc[row, column] = str('Excellent')\n",
    "        elif kaggle.loc[row, column] >= 7:\n",
    "            kaggle.loc[row, column] = str('Good')\n",
    "        elif kaggle.loc[row, column] >= 4:\n",
    "            kaggle.loc[row, column] = str('Average')\n",
    "        elif kaggle.loc[row, column] >= 1:\n",
    "            kaggle.loc[row, column] = str('Fair')\n",
    "        else:\n",
    "            kaggle.loc[row, column] = str('Poor')\n",
    "    return\n",
    "scale_10_rewrite('Overall Qual')\n",
    "scale_10_rewrite('Overall Cond')\n",
    "kaggle.drop(columns = 'Garage Area', inplace=True)\n",
    "kaggle.drop(columns='Garage Cond', inplace=True)\n",
    "kaggle.drop(columns = 'Pool Area', inplace=True)\n",
    "kaggle.drop(columns = 'Garage Finish', inplace = True)\n",
    "\n",
    "kaggle.drop(columns = 'Heating', inplace=True)\n",
    "kaggle['Heating QC'] = kaggle['Heating QC'].map({'Ex': 'Gd', 'Gd': 'Gd',\n",
    "                                                 'TA': 'TA',\n",
    "                                                 'Fa': 'Po', 'Po': 'Po'})\n",
    "kaggle['Central Air'] = kaggle['Central Air'].map({'Y': int(1), 'N': int(0)})\n",
    "kaggle['Garage Qual'] = kaggle['Garage Qual'].map({'Ex': 'Gd', 'Gd': 'Gd',\n",
    "                                                   'TA': 'TA',\n",
    "                                                   'Fa': 'Po', 'Po': 'Po',\n",
    "                                                   'NA': 'NA'})"
   ]
  },
  {
   "cell_type": "markdown",
   "metadata": {},
   "source": [
    "With all the transformations applied, I'll check for any remaining null values that hadn't occurred in the training set."
   ]
  },
  {
   "cell_type": "code",
   "execution_count": 4,
   "metadata": {},
   "outputs": [
    {
     "data": {
      "text/plain": [
       "Electrical        1\n",
       "Sale Type         0\n",
       "Mas Vnr Area      0\n",
       "Year Remod/Add    0\n",
       "Roof Style        0\n",
       "dtype: int64"
      ]
     },
     "execution_count": 4,
     "metadata": {},
     "output_type": "execute_result"
    }
   ],
   "source": [
    "kaggle.isnull().sum().sort_values(ascending=False).head()"
   ]
  },
  {
   "cell_type": "code",
   "execution_count": 5,
   "metadata": {},
   "outputs": [
    {
     "data": {
      "text/plain": [
       "SBrkr    814\n",
       "FuseA     48\n",
       "FuseF     15\n",
       "FuseP      1\n",
       "Name: Electrical, dtype: int64"
      ]
     },
     "execution_count": 5,
     "metadata": {},
     "output_type": "execute_result"
    }
   ],
   "source": [
    "kaggle.Electrical.value_counts()"
   ]
  },
  {
   "cell_type": "markdown",
   "metadata": {},
   "source": [
    "With over 90% of the values in `Electrical` being the same, I feel comfortable imputing the mode of \"SBrkr\" for the missing value."
   ]
  },
  {
   "cell_type": "code",
   "execution_count": 6,
   "metadata": {},
   "outputs": [],
   "source": [
    "kaggle.Electrical.fillna('SBrkr', inplace=True)"
   ]
  },
  {
   "cell_type": "markdown",
   "metadata": {},
   "source": [
    "The `Electrical` null has been filled, so I'll verify that the dataframe is clean before moving on to column transformations."
   ]
  },
  {
   "cell_type": "code",
   "execution_count": 7,
   "metadata": {},
   "outputs": [
    {
     "data": {
      "text/plain": [
       "0"
      ]
     },
     "execution_count": 7,
     "metadata": {},
     "output_type": "execute_result"
    }
   ],
   "source": [
    "kaggle.isnull().sum().sum()"
   ]
  },
  {
   "cell_type": "markdown",
   "metadata": {},
   "source": [
    "### Matching Columns"
   ]
  },
  {
   "cell_type": "markdown",
   "metadata": {},
   "source": [
    "Before applying the scaler and model, I have to make sure the validation set has the same columns that were used to create the model with the training set. First I'll create a new dataframe with all of the validation set's columns dummied out."
   ]
  },
  {
   "cell_type": "code",
   "execution_count": 8,
   "metadata": {},
   "outputs": [],
   "source": [
    "kaggle_dummies = pd.get_dummies(kaggle)"
   ]
  },
  {
   "cell_type": "markdown",
   "metadata": {},
   "source": [
    "The properties in the validation set likely have some qualitative values that didn't appear in the training set and vice-versa. So next I'll import the dummied training dataset and drop `SalePrice` from it so I can match the validation set's columns to it."
   ]
  },
  {
   "cell_type": "code",
   "execution_count": 9,
   "metadata": {},
   "outputs": [],
   "source": [
    "ames_dummies = '../datasets/train_clean_dummies.csv'\n",
    "X_train = pd.read_csv(ames_dummies, index_col='Id')\n",
    "\n",
    "X_train.drop(columns='SalePrice', inplace=True)"
   ]
  },
  {
   "cell_type": "markdown",
   "metadata": {},
   "source": [
    "Now I'll create a set containing the names of the training columns that don't appear in the validation dataframe, and I'll interate through that set with a for loop to add each column to the validation dataframe with values of 0."
   ]
  },
  {
   "cell_type": "code",
   "execution_count": 10,
   "metadata": {},
   "outputs": [],
   "source": [
    "missing_cols = set(X_train).difference(kaggle_dummies)\n",
    "\n",
    "for col in missing_cols:\n",
    "    kaggle_dummies[col] = 0"
   ]
  },
  {
   "cell_type": "code",
   "execution_count": 11,
   "metadata": {},
   "outputs": [
    {
     "data": {
      "text/plain": [
       "(879, 290)"
      ]
     },
     "execution_count": 11,
     "metadata": {},
     "output_type": "execute_result"
    }
   ],
   "source": [
    "kaggle_dummies.shape"
   ]
  },
  {
   "cell_type": "markdown",
   "metadata": {},
   "source": [
    "Now that the validation set contains all of the training set's columns, I'll set it to equal the training set's columns. This will eliminate any extra features in the validation set and properly set the order of its columns to be in full compliance with the training set."
   ]
  },
  {
   "cell_type": "code",
   "execution_count": 12,
   "metadata": {},
   "outputs": [],
   "source": [
    "kaggle_dummies = kaggle_dummies[X_train.columns]"
   ]
  },
  {
   "cell_type": "markdown",
   "metadata": {},
   "source": [
    "The validation dataset is ready for the scaler and model."
   ]
  },
  {
   "cell_type": "markdown",
   "metadata": {},
   "source": [
    "### Scaling and Predicting the Validation Dataset"
   ]
  },
  {
   "cell_type": "code",
   "execution_count": 13,
   "metadata": {},
   "outputs": [
    {
     "name": "stderr",
     "output_type": "stream",
     "text": [
      "/Users/BK/anaconda3/lib/python3.7/site-packages/ipykernel_launcher.py:1: DataConversionWarning: Data with input dtype uint8, int64, float64 were all converted to float64 by StandardScaler.\n",
      "  \"\"\"Entry point for launching an IPython kernel.\n"
     ]
    }
   ],
   "source": [
    "kaggle_sc = ss.transform(kaggle_dummies)"
   ]
  },
  {
   "cell_type": "code",
   "execution_count": 14,
   "metadata": {},
   "outputs": [],
   "source": [
    "preds = lasso.predict(kaggle_sc)"
   ]
  },
  {
   "cell_type": "markdown",
   "metadata": {},
   "source": [
    "### Exporting the Submission"
   ]
  },
  {
   "cell_type": "markdown",
   "metadata": {},
   "source": [
    "I will create a `submission` dataframe from the predictions. The dataframe will have an index column of the `Id` for each property, and a column of `SalePrice` with the corresponding price predictions for each property."
   ]
  },
  {
   "cell_type": "code",
   "execution_count": 15,
   "metadata": {},
   "outputs": [
    {
     "data": {
      "text/html": [
       "<div>\n",
       "<style scoped>\n",
       "    .dataframe tbody tr th:only-of-type {\n",
       "        vertical-align: middle;\n",
       "    }\n",
       "\n",
       "    .dataframe tbody tr th {\n",
       "        vertical-align: top;\n",
       "    }\n",
       "\n",
       "    .dataframe thead th {\n",
       "        text-align: right;\n",
       "    }\n",
       "</style>\n",
       "<table border=\"1\" class=\"dataframe\">\n",
       "  <thead>\n",
       "    <tr style=\"text-align: right;\">\n",
       "      <th></th>\n",
       "      <th>SalePrice</th>\n",
       "    </tr>\n",
       "    <tr>\n",
       "      <th>Id</th>\n",
       "      <th></th>\n",
       "    </tr>\n",
       "  </thead>\n",
       "  <tbody>\n",
       "    <tr>\n",
       "      <th>2658</th>\n",
       "      <td>128071.379916</td>\n",
       "    </tr>\n",
       "    <tr>\n",
       "      <th>2718</th>\n",
       "      <td>180666.352590</td>\n",
       "    </tr>\n",
       "    <tr>\n",
       "      <th>2414</th>\n",
       "      <td>212790.302083</td>\n",
       "    </tr>\n",
       "    <tr>\n",
       "      <th>1989</th>\n",
       "      <td>118975.317471</td>\n",
       "    </tr>\n",
       "    <tr>\n",
       "      <th>625</th>\n",
       "      <td>187679.981451</td>\n",
       "    </tr>\n",
       "  </tbody>\n",
       "</table>\n",
       "</div>"
      ],
      "text/plain": [
       "          SalePrice\n",
       "Id                 \n",
       "2658  128071.379916\n",
       "2718  180666.352590\n",
       "2414  212790.302083\n",
       "1989  118975.317471\n",
       "625   187679.981451"
      ]
     },
     "execution_count": 15,
     "metadata": {},
     "output_type": "execute_result"
    }
   ],
   "source": [
    "submission = pd.DataFrame(preds, index=kaggle.index, columns=['SalePrice'])\n",
    "submission.head()"
   ]
  },
  {
   "cell_type": "markdown",
   "metadata": {},
   "source": [
    "Before exporting I'll sort the dataframe in ascending order by its `Id` index."
   ]
  },
  {
   "cell_type": "code",
   "execution_count": 16,
   "metadata": {},
   "outputs": [
    {
     "data": {
      "text/html": [
       "<div>\n",
       "<style scoped>\n",
       "    .dataframe tbody tr th:only-of-type {\n",
       "        vertical-align: middle;\n",
       "    }\n",
       "\n",
       "    .dataframe tbody tr th {\n",
       "        vertical-align: top;\n",
       "    }\n",
       "\n",
       "    .dataframe thead th {\n",
       "        text-align: right;\n",
       "    }\n",
       "</style>\n",
       "<table border=\"1\" class=\"dataframe\">\n",
       "  <thead>\n",
       "    <tr style=\"text-align: right;\">\n",
       "      <th></th>\n",
       "      <th>SalePrice</th>\n",
       "    </tr>\n",
       "    <tr>\n",
       "      <th>Id</th>\n",
       "      <th></th>\n",
       "    </tr>\n",
       "  </thead>\n",
       "  <tbody>\n",
       "    <tr>\n",
       "      <th>2</th>\n",
       "      <td>124359.402799</td>\n",
       "    </tr>\n",
       "    <tr>\n",
       "      <th>4</th>\n",
       "      <td>280730.486957</td>\n",
       "    </tr>\n",
       "    <tr>\n",
       "      <th>6</th>\n",
       "      <td>198731.172974</td>\n",
       "    </tr>\n",
       "    <tr>\n",
       "      <th>7</th>\n",
       "      <td>217359.073376</td>\n",
       "    </tr>\n",
       "    <tr>\n",
       "      <th>17</th>\n",
       "      <td>196407.901522</td>\n",
       "    </tr>\n",
       "  </tbody>\n",
       "</table>\n",
       "</div>"
      ],
      "text/plain": [
       "        SalePrice\n",
       "Id               \n",
       "2   124359.402799\n",
       "4   280730.486957\n",
       "6   198731.172974\n",
       "7   217359.073376\n",
       "17  196407.901522"
      ]
     },
     "execution_count": 16,
     "metadata": {},
     "output_type": "execute_result"
    }
   ],
   "source": [
    "submission.sort_index(inplace=True)\n",
    "submission.head()"
   ]
  },
  {
   "cell_type": "markdown",
   "metadata": {},
   "source": [
    "Finally, I will export this sorted dataset of predictions to a new CSV file for submission to Kaggle. I've left the command for this export commented out to protect against an accidental overwrite of earlier predictions."
   ]
  },
  {
   "cell_type": "code",
   "execution_count": 17,
   "metadata": {},
   "outputs": [],
   "source": [
    "# submission.to_csv('../datasets/kaggle_submission.csv')"
   ]
  },
  {
   "cell_type": "markdown",
   "metadata": {},
   "source": [
    "This concludes my report. Thank you for reading."
   ]
  }
 ],
 "metadata": {
  "kernelspec": {
   "display_name": "Python 3",
   "language": "python",
   "name": "python3"
  },
  "language_info": {
   "codemirror_mode": {
    "name": "ipython",
    "version": 3
   },
   "file_extension": ".py",
   "mimetype": "text/x-python",
   "name": "python",
   "nbconvert_exporter": "python",
   "pygments_lexer": "ipython3",
   "version": "3.7.1"
  }
 },
 "nbformat": 4,
 "nbformat_minor": 2
}
